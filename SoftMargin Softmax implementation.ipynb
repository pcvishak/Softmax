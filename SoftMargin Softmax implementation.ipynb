{
 "cells": [
  {
   "cell_type": "code",
   "execution_count": 1,
   "metadata": {},
   "outputs": [],
   "source": [
    "import tensorflow as tf\n",
    "import numpy as np"
   ]
  },
  {
   "cell_type": "code",
   "execution_count": 8,
   "metadata": {},
   "outputs": [],
   "source": [
    "def softmax(x):\n",
    "    return np.exp(x) / np.sum(np.exp(x), axis=0)"
   ]
  },
  {
   "cell_type": "code",
   "execution_count": 13,
   "metadata": {},
   "outputs": [],
   "source": [
    "def soft_margin_softmax(x, m):\n",
    "    numerator = np.exp(x - m)\n",
    "    sum = 0\n",
    "    for i in range(x.size):\n",
    "        sum += np.exp(x[i])\n",
    "    denominator = np.zeros(x.size)\n",
    "    for i in range(x.size):\n",
    "        denominator[i] = sum - np.exp(x[i]) + np.exp(x[i] - m)\n",
    "    return np.divide(numerator, denominator)\n",
    "        "
   ]
  },
  {
   "cell_type": "code",
   "execution_count": null,
   "metadata": {},
   "outputs": [],
   "source": [
    "def convert_to_softmax(input_tensor):\n",
    "    denominator = tf.Variable(0, dtype=tf.float32)\n",
    "    result = tf.Variable(tf.zeros(input_tensor.get_shape()))\n",
    "\n",
    "    denominator = tf.reduce_sum(tf.map_fn(lambda x: tf.exp(tf.convert_to_tensor(x)), input_tensor))\n",
    "    exponent_tensor = tf.exp(input_tensor)\n",
    "    result = tf.divide(exponent_tensor, denominator)\n",
    "    \n",
    "    return result"
   ]
  },
  {
   "cell_type": "code",
   "execution_count": 6,
   "metadata": {},
   "outputs": [],
   "source": [
    "def convert_to_soft_margin_softmax(input_tensor, m):\n",
    "    denominator = tf.Variable(0, dtype=tf.float32)\n",
    "    result = tf.Variable(tf.zeros(input_tensor.get_shape()))\n",
    "    \n",
    "    sum_of_exponents = tf.reduce_sum(tf.map_fn(lambda x: tf.exp(tf.convert_to_tensor(x)), input_tensor))\n",
    "    exponent_tensor = tf.exp(input_tensor)\n",
    "    temp = tf.exp(tf.constant(m, dtype=tf.float32, shape=input_tensor.get_shape()))\n",
    "    numerator = tf.divide(exponent_tensor, temp)\n",
    "    denominator = tf.subtract(tf.add(numerator, sum_of_exponents), exponent_tensor)\n",
    "    result = tf.divide(numerator, denominator)\n",
    "    \n",
    "    return result"
   ]
  },
  {
   "cell_type": "code",
   "execution_count": 21,
   "metadata": {},
   "outputs": [
    {
     "name": "stdout",
     "output_type": "stream",
     "text": [
      "[0.95517053 0.10724936 0.37210907 0.73057553 0.47426189 0.26681918]\n",
      "[0.25601926 0.10965418 0.14290659 0.20451833 0.15827659 0.128625  ]\n",
      "[0.25601927 0.10965417 0.1429066  0.20451835 0.15827659 0.12862502]\n",
      "[0.25601927 0.10965417 0.1429066  0.20451835 0.15827659 0.12862502]\n"
     ]
    }
   ],
   "source": [
    "input_array = np.random.rand(6)\n",
    "print(input_array)\n",
    "input_tensor = tf.convert_to_tensor(input_array, dtype=tf.float32)\n",
    "m = 0\n",
    "softmax_tensor = convert_to_soft_margin_softmax(input_tensor, 0)\n",
    "\n",
    "model=tf.initialize_all_variables()\n",
    "with tf.Session() as sess:\n",
    "    sess.run(model)\n",
    "    print(sess.run(softmax_tensor))\n",
    "    \n",
    "print(softmax(input_array))\n",
    "print(soft_margin_softmax(input_array, 0))"
   ]
  }
 ],
 "metadata": {
  "kernelspec": {
   "display_name": "Python 3",
   "language": "python",
   "name": "python3"
  },
  "language_info": {
   "codemirror_mode": {
    "name": "ipython",
    "version": 2
   },
   "file_extension": ".py",
   "mimetype": "text/x-python",
   "name": "python",
   "nbconvert_exporter": "python",
   "pygments_lexer": "ipython2",
   "version": "2.7.15rc1"
  }
 },
 "nbformat": 4,
 "nbformat_minor": 2
}
